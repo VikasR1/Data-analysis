{
 "cells": [
  {
   "cell_type": "code",
   "execution_count": 1,
   "metadata": {},
   "outputs": [],
   "source": [
    "!pip install pandas-datareader --upgrade --quiet"
   ]
  },
  {
   "cell_type": "code",
   "execution_count": 2,
   "metadata": {},
   "outputs": [],
   "source": [
    "import numpy as np\n",
    "import matplotlib.pyplot as plt\n",
    "import pandas as pd\n",
    "from sklearn.preprocessing import MinMaxScaler"
   ]
  },
  {
   "cell_type": "code",
   "execution_count": 3,
   "metadata": {},
   "outputs": [],
   "source": [
    "import pandas_datareader.data as web"
   ]
  },
  {
   "cell_type": "code",
   "execution_count": 4,
   "metadata": {},
   "outputs": [],
   "source": [
    "indus = web.DataReader('INDUSINDBK.NS','yahoo',start ='2004-01-01',end = '2020-10-21')"
   ]
  },
  {
   "cell_type": "code",
   "execution_count": 6,
   "metadata": {},
   "outputs": [
    {
     "data": {
      "text/html": [
       "<div>\n",
       "<style scoped>\n",
       "    .dataframe tbody tr th:only-of-type {\n",
       "        vertical-align: middle;\n",
       "    }\n",
       "\n",
       "    .dataframe tbody tr th {\n",
       "        vertical-align: top;\n",
       "    }\n",
       "\n",
       "    .dataframe thead th {\n",
       "        text-align: right;\n",
       "    }\n",
       "</style>\n",
       "<table border=\"1\" class=\"dataframe\">\n",
       "  <thead>\n",
       "    <tr style=\"text-align: right;\">\n",
       "      <th></th>\n",
       "      <th>High</th>\n",
       "      <th>Low</th>\n",
       "      <th>Open</th>\n",
       "      <th>Close</th>\n",
       "      <th>Volume</th>\n",
       "      <th>Adj Close</th>\n",
       "    </tr>\n",
       "    <tr>\n",
       "      <th>Date</th>\n",
       "      <th></th>\n",
       "      <th></th>\n",
       "      <th></th>\n",
       "      <th></th>\n",
       "      <th></th>\n",
       "      <th></th>\n",
       "    </tr>\n",
       "  </thead>\n",
       "  <tbody>\n",
       "    <tr>\n",
       "      <th>2020-10-12</th>\n",
       "      <td>632.000000</td>\n",
       "      <td>610.500000</td>\n",
       "      <td>628.200012</td>\n",
       "      <td>614.450012</td>\n",
       "      <td>11751051.0</td>\n",
       "      <td>614.450012</td>\n",
       "    </tr>\n",
       "    <tr>\n",
       "      <th>2020-10-13</th>\n",
       "      <td>620.750000</td>\n",
       "      <td>602.450012</td>\n",
       "      <td>611.599976</td>\n",
       "      <td>608.200012</td>\n",
       "      <td>11579298.0</td>\n",
       "      <td>608.200012</td>\n",
       "    </tr>\n",
       "    <tr>\n",
       "      <th>2020-10-14</th>\n",
       "      <td>626.450012</td>\n",
       "      <td>597.500000</td>\n",
       "      <td>600.000000</td>\n",
       "      <td>622.650024</td>\n",
       "      <td>14624404.0</td>\n",
       "      <td>622.650024</td>\n",
       "    </tr>\n",
       "    <tr>\n",
       "      <th>2020-10-15</th>\n",
       "      <td>632.500000</td>\n",
       "      <td>593.349976</td>\n",
       "      <td>622.650024</td>\n",
       "      <td>598.000000</td>\n",
       "      <td>14728367.0</td>\n",
       "      <td>598.000000</td>\n",
       "    </tr>\n",
       "    <tr>\n",
       "      <th>2020-10-16</th>\n",
       "      <td>613.900024</td>\n",
       "      <td>601.400024</td>\n",
       "      <td>604.799988</td>\n",
       "      <td>608.299988</td>\n",
       "      <td>11569890.0</td>\n",
       "      <td>608.299988</td>\n",
       "    </tr>\n",
       "  </tbody>\n",
       "</table>\n",
       "</div>"
      ],
      "text/plain": [
       "                  High         Low        Open       Close      Volume  \\\n",
       "Date                                                                     \n",
       "2020-10-12  632.000000  610.500000  628.200012  614.450012  11751051.0   \n",
       "2020-10-13  620.750000  602.450012  611.599976  608.200012  11579298.0   \n",
       "2020-10-14  626.450012  597.500000  600.000000  622.650024  14624404.0   \n",
       "2020-10-15  632.500000  593.349976  622.650024  598.000000  14728367.0   \n",
       "2020-10-16  613.900024  601.400024  604.799988  608.299988  11569890.0   \n",
       "\n",
       "             Adj Close  \n",
       "Date                    \n",
       "2020-10-12  614.450012  \n",
       "2020-10-13  608.200012  \n",
       "2020-10-14  622.650024  \n",
       "2020-10-15  598.000000  \n",
       "2020-10-16  608.299988  "
      ]
     },
     "execution_count": 6,
     "metadata": {},
     "output_type": "execute_result"
    }
   ],
   "source": [
    "indus.tail()"
   ]
  },
  {
   "cell_type": "code",
   "execution_count": 8,
   "metadata": {},
   "outputs": [
    {
     "data": {
      "text/html": [
       "<div>\n",
       "<style scoped>\n",
       "    .dataframe tbody tr th:only-of-type {\n",
       "        vertical-align: middle;\n",
       "    }\n",
       "\n",
       "    .dataframe tbody tr th {\n",
       "        vertical-align: top;\n",
       "    }\n",
       "\n",
       "    .dataframe thead th {\n",
       "        text-align: right;\n",
       "    }\n",
       "</style>\n",
       "<table border=\"1\" class=\"dataframe\">\n",
       "  <thead>\n",
       "    <tr style=\"text-align: right;\">\n",
       "      <th></th>\n",
       "      <th>Date</th>\n",
       "      <th>High</th>\n",
       "      <th>Low</th>\n",
       "      <th>Open</th>\n",
       "      <th>Close</th>\n",
       "      <th>Volume</th>\n",
       "      <th>Adj Close</th>\n",
       "    </tr>\n",
       "  </thead>\n",
       "  <tbody>\n",
       "    <tr>\n",
       "      <th>4140</th>\n",
       "      <td>2020-10-12</td>\n",
       "      <td>632.000000</td>\n",
       "      <td>610.500000</td>\n",
       "      <td>628.200012</td>\n",
       "      <td>614.450012</td>\n",
       "      <td>11751051.0</td>\n",
       "      <td>614.450012</td>\n",
       "    </tr>\n",
       "    <tr>\n",
       "      <th>4141</th>\n",
       "      <td>2020-10-13</td>\n",
       "      <td>620.750000</td>\n",
       "      <td>602.450012</td>\n",
       "      <td>611.599976</td>\n",
       "      <td>608.200012</td>\n",
       "      <td>11579298.0</td>\n",
       "      <td>608.200012</td>\n",
       "    </tr>\n",
       "    <tr>\n",
       "      <th>4142</th>\n",
       "      <td>2020-10-14</td>\n",
       "      <td>626.450012</td>\n",
       "      <td>597.500000</td>\n",
       "      <td>600.000000</td>\n",
       "      <td>622.650024</td>\n",
       "      <td>14624404.0</td>\n",
       "      <td>622.650024</td>\n",
       "    </tr>\n",
       "    <tr>\n",
       "      <th>4143</th>\n",
       "      <td>2020-10-15</td>\n",
       "      <td>632.500000</td>\n",
       "      <td>593.349976</td>\n",
       "      <td>622.650024</td>\n",
       "      <td>598.000000</td>\n",
       "      <td>14728367.0</td>\n",
       "      <td>598.000000</td>\n",
       "    </tr>\n",
       "    <tr>\n",
       "      <th>4144</th>\n",
       "      <td>2020-10-16</td>\n",
       "      <td>613.900024</td>\n",
       "      <td>601.400024</td>\n",
       "      <td>604.799988</td>\n",
       "      <td>608.299988</td>\n",
       "      <td>11569890.0</td>\n",
       "      <td>608.299988</td>\n",
       "    </tr>\n",
       "  </tbody>\n",
       "</table>\n",
       "</div>"
      ],
      "text/plain": [
       "            Date        High         Low        Open       Close      Volume  \\\n",
       "4140  2020-10-12  632.000000  610.500000  628.200012  614.450012  11751051.0   \n",
       "4141  2020-10-13  620.750000  602.450012  611.599976  608.200012  11579298.0   \n",
       "4142  2020-10-14  626.450012  597.500000  600.000000  622.650024  14624404.0   \n",
       "4143  2020-10-15  632.500000  593.349976  622.650024  598.000000  14728367.0   \n",
       "4144  2020-10-16  613.900024  601.400024  604.799988  608.299988  11569890.0   \n",
       "\n",
       "       Adj Close  \n",
       "4140  614.450012  \n",
       "4141  608.200012  \n",
       "4142  622.650024  \n",
       "4143  598.000000  \n",
       "4144  608.299988  "
      ]
     },
     "execution_count": 8,
     "metadata": {},
     "output_type": "execute_result"
    }
   ],
   "source": [
    "data = indus.to_csv('indus.csv')\n",
    "data = pd.read_csv('indus.csv',date_parser = True)\n",
    "data.tail()"
   ]
  },
  {
   "cell_type": "code",
   "execution_count": 20,
   "metadata": {},
   "outputs": [],
   "source": [
    "data_training1 = data[data['Date']<'2019-01-01'].copy()\n",
    "data_test1 = data[data['Date']>='2019-01-01'].copy()\n",
    "\n",
    "data_training = data[data['Date']<'2019-01-01'].copy()\n",
    "data_test = data[data['Date']>='2019-01-01'].copy()"
   ]
  },
  {
   "cell_type": "code",
   "execution_count": 21,
   "metadata": {},
   "outputs": [],
   "source": [
    "data_training = data_training.drop(['Date', 'Adj Close'], axis = 1)"
   ]
  },
  {
   "cell_type": "code",
   "execution_count": 22,
   "metadata": {},
   "outputs": [
    {
     "data": {
      "text/plain": [
       "array([[0.0076391 , 0.00801598, 0.00809686, 0.00816777, 0.0185912 ],\n",
       "       [0.00900766, 0.00862287, 0.01023942, 0.00839326, 0.03190957],\n",
       "       [0.00806211, 0.00811713, 0.00901866, 0.00771678, 0.02058655],\n",
       "       ...,\n",
       "       [0.77876478, 0.7755778 , 0.77273974, 0.76997468, 0.10274167],\n",
       "       [0.78227332, 0.78129269, 0.77366152, 0.77962066, 0.0728834 ],\n",
       "       [0.78401513, 0.78867649, 0.779865  , 0.78766317, 0.0509799 ]])"
      ]
     },
     "execution_count": 22,
     "metadata": {},
     "output_type": "execute_result"
    }
   ],
   "source": [
    "scaler = MinMaxScaler()\n",
    "data_training = scaler.fit_transform(data_training)\n",
    "data_training"
   ]
  },
  {
   "cell_type": "code",
   "execution_count": 23,
   "metadata": {},
   "outputs": [],
   "source": [
    "X_train = []\n",
    "y_train = []\n",
    "\n",
    "for i in range(60, data_training.shape[0]):\n",
    "    X_train.append(data_training[i-60:i])\n",
    "    y_train.append(data_training[i, 0])\n",
    "    \n",
    "X_train, y_train = np.array(X_train), np.array(y_train)"
   ]
  },
  {
   "cell_type": "code",
   "execution_count": 24,
   "metadata": {},
   "outputs": [
    {
     "data": {
      "text/plain": [
       "(3644, 60, 5)"
      ]
     },
     "execution_count": 24,
     "metadata": {},
     "output_type": "execute_result"
    }
   ],
   "source": [
    "X_train.shape"
   ]
  },
  {
   "cell_type": "code",
   "execution_count": 25,
   "metadata": {},
   "outputs": [],
   "source": [
    "from tensorflow.keras import Sequential\n",
    "from tensorflow.keras.layers import Dense, LSTM, Dropout"
   ]
  },
  {
   "cell_type": "code",
   "execution_count": 26,
   "metadata": {},
   "outputs": [],
   "source": [
    "regressor = Sequential()\n",
    "\n",
    "regressor.add(LSTM(units = 60, activation = 'relu', return_sequences = True, input_shape = (X_train.shape[1], 5)))\n",
    "regressor.add(Dropout(0.2))\n",
    "\n",
    "regressor.add(LSTM(units = 60, activation = 'relu', return_sequences = True))\n",
    "regressor.add(Dropout(0.3))\n",
    "\n",
    "regressor.add(LSTM(units = 80, activation = 'relu', return_sequences = True))\n",
    "regressor.add(Dropout(0.4))\n",
    "\n",
    "regressor.add(LSTM(units = 120, activation = 'relu'))\n",
    "regressor.add(Dropout(0.5))\n",
    "\n",
    "regressor.add(Dense(units = 1))"
   ]
  },
  {
   "cell_type": "code",
   "execution_count": 27,
   "metadata": {},
   "outputs": [
    {
     "name": "stdout",
     "output_type": "stream",
     "text": [
      "_________________________________________________________________\n",
      "Layer (type)                 Output Shape              Param #   \n",
      "=================================================================\n",
      "lstm_4 (LSTM)                (None, 60, 60)            15840     \n",
      "_________________________________________________________________\n",
      "dropout_4 (Dropout)          (None, 60, 60)            0         \n",
      "_________________________________________________________________\n",
      "lstm_5 (LSTM)                (None, 60, 60)            29040     \n",
      "_________________________________________________________________\n",
      "dropout_5 (Dropout)          (None, 60, 60)            0         \n",
      "_________________________________________________________________\n",
      "lstm_6 (LSTM)                (None, 60, 80)            45120     \n",
      "_________________________________________________________________\n",
      "dropout_6 (Dropout)          (None, 60, 80)            0         \n",
      "_________________________________________________________________\n",
      "lstm_7 (LSTM)                (None, 120)               96480     \n",
      "_________________________________________________________________\n",
      "dropout_7 (Dropout)          (None, 120)               0         \n",
      "_________________________________________________________________\n",
      "dense_1 (Dense)              (None, 1)                 121       \n",
      "=================================================================\n",
      "Total params: 186,601\n",
      "Trainable params: 186,601\n",
      "Non-trainable params: 0\n",
      "_________________________________________________________________\n"
     ]
    }
   ],
   "source": [
    "regressor.summary()"
   ]
  },
  {
   "cell_type": "code",
   "execution_count": 28,
   "metadata": {},
   "outputs": [
    {
     "name": "stdout",
     "output_type": "stream",
     "text": [
      "3644/3644 [==============================] - 131s 36ms/sample - loss: 0.0143\n"
     ]
    },
    {
     "data": {
      "text/plain": [
       "<tensorflow.python.keras.callbacks.History at 0x7f7b7c222ed0>"
      ]
     },
     "execution_count": 28,
     "metadata": {},
     "output_type": "execute_result"
    }
   ],
   "source": [
    "regressor.compile(optimizer='adam', loss = 'mean_squared_error')\n",
    "regressor.fit(X_train, y_train, epochs=1, batch_size=32)"
   ]
  },
  {
   "cell_type": "code",
   "execution_count": 29,
   "metadata": {},
   "outputs": [
    {
     "data": {
      "text/html": [
       "<div>\n",
       "<style scoped>\n",
       "    .dataframe tbody tr th:only-of-type {\n",
       "        vertical-align: middle;\n",
       "    }\n",
       "\n",
       "    .dataframe tbody tr th {\n",
       "        vertical-align: top;\n",
       "    }\n",
       "\n",
       "    .dataframe thead th {\n",
       "        text-align: right;\n",
       "    }\n",
       "</style>\n",
       "<table border=\"1\" class=\"dataframe\">\n",
       "  <thead>\n",
       "    <tr style=\"text-align: right;\">\n",
       "      <th></th>\n",
       "      <th>Date</th>\n",
       "      <th>High</th>\n",
       "      <th>Low</th>\n",
       "      <th>Open</th>\n",
       "      <th>Close</th>\n",
       "      <th>Volume</th>\n",
       "      <th>Adj Close</th>\n",
       "    </tr>\n",
       "  </thead>\n",
       "  <tbody>\n",
       "    <tr>\n",
       "      <th>3704</th>\n",
       "      <td>2019-01-01</td>\n",
       "      <td>1605.0</td>\n",
       "      <td>1560.550049</td>\n",
       "      <td>1600.000000</td>\n",
       "      <td>1595.599976</td>\n",
       "      <td>4043870.0</td>\n",
       "      <td>1587.209961</td>\n",
       "    </tr>\n",
       "    <tr>\n",
       "      <th>3705</th>\n",
       "      <td>2019-01-02</td>\n",
       "      <td>1598.0</td>\n",
       "      <td>1568.250000</td>\n",
       "      <td>1587.599976</td>\n",
       "      <td>1576.599976</td>\n",
       "      <td>1164974.0</td>\n",
       "      <td>1568.309937</td>\n",
       "    </tr>\n",
       "    <tr>\n",
       "      <th>3706</th>\n",
       "      <td>2019-01-03</td>\n",
       "      <td>1580.0</td>\n",
       "      <td>1555.650024</td>\n",
       "      <td>1573.000000</td>\n",
       "      <td>1560.099976</td>\n",
       "      <td>958038.0</td>\n",
       "      <td>1551.896606</td>\n",
       "    </tr>\n",
       "    <tr>\n",
       "      <th>3707</th>\n",
       "      <td>2019-01-04</td>\n",
       "      <td>1571.0</td>\n",
       "      <td>1540.199951</td>\n",
       "      <td>1560.800049</td>\n",
       "      <td>1548.199951</td>\n",
       "      <td>1868151.0</td>\n",
       "      <td>1540.059204</td>\n",
       "    </tr>\n",
       "    <tr>\n",
       "      <th>3708</th>\n",
       "      <td>2019-01-07</td>\n",
       "      <td>1610.0</td>\n",
       "      <td>1550.500000</td>\n",
       "      <td>1561.000000</td>\n",
       "      <td>1559.150024</td>\n",
       "      <td>3991996.0</td>\n",
       "      <td>1550.951660</td>\n",
       "    </tr>\n",
       "  </tbody>\n",
       "</table>\n",
       "</div>"
      ],
      "text/plain": [
       "            Date    High          Low         Open        Close     Volume  \\\n",
       "3704  2019-01-01  1605.0  1560.550049  1600.000000  1595.599976  4043870.0   \n",
       "3705  2019-01-02  1598.0  1568.250000  1587.599976  1576.599976  1164974.0   \n",
       "3706  2019-01-03  1580.0  1555.650024  1573.000000  1560.099976   958038.0   \n",
       "3707  2019-01-04  1571.0  1540.199951  1560.800049  1548.199951  1868151.0   \n",
       "3708  2019-01-07  1610.0  1550.500000  1561.000000  1559.150024  3991996.0   \n",
       "\n",
       "        Adj Close  \n",
       "3704  1587.209961  \n",
       "3705  1568.309937  \n",
       "3706  1551.896606  \n",
       "3707  1540.059204  \n",
       "3708  1550.951660  "
      ]
     },
     "execution_count": 29,
     "metadata": {},
     "output_type": "execute_result"
    }
   ],
   "source": [
    "data_test.head()"
   ]
  },
  {
   "cell_type": "code",
   "execution_count": 45,
   "metadata": {},
   "outputs": [],
   "source": [
    "# data_training1 = data_training.drop(['Date', 'Adj Close'], axis = 1)\n",
    "# data_training1[['Close']].tail(60)\n",
    "past_60_days = data_training1.tail(60)"
   ]
  },
  {
   "cell_type": "code",
   "execution_count": 46,
   "metadata": {},
   "outputs": [
    {
     "data": {
      "text/html": [
       "<div>\n",
       "<style scoped>\n",
       "    .dataframe tbody tr th:only-of-type {\n",
       "        vertical-align: middle;\n",
       "    }\n",
       "\n",
       "    .dataframe tbody tr th {\n",
       "        vertical-align: top;\n",
       "    }\n",
       "\n",
       "    .dataframe thead th {\n",
       "        text-align: right;\n",
       "    }\n",
       "</style>\n",
       "<table border=\"1\" class=\"dataframe\">\n",
       "  <thead>\n",
       "    <tr style=\"text-align: right;\">\n",
       "      <th></th>\n",
       "      <th>High</th>\n",
       "      <th>Low</th>\n",
       "      <th>Open</th>\n",
       "      <th>Close</th>\n",
       "      <th>Volume</th>\n",
       "    </tr>\n",
       "  </thead>\n",
       "  <tbody>\n",
       "    <tr>\n",
       "      <th>0</th>\n",
       "      <td>1659.199951</td>\n",
       "      <td>1606.000000</td>\n",
       "      <td>1639.800049</td>\n",
       "      <td>1638.699951</td>\n",
       "      <td>5112718.0</td>\n",
       "    </tr>\n",
       "    <tr>\n",
       "      <th>1</th>\n",
       "      <td>1627.199951</td>\n",
       "      <td>1551.349976</td>\n",
       "      <td>1614.800049</td>\n",
       "      <td>1589.500000</td>\n",
       "      <td>3065332.0</td>\n",
       "    </tr>\n",
       "    <tr>\n",
       "      <th>2</th>\n",
       "      <td>1638.449951</td>\n",
       "      <td>1572.000000</td>\n",
       "      <td>1572.000000</td>\n",
       "      <td>1607.349976</td>\n",
       "      <td>4352946.0</td>\n",
       "    </tr>\n",
       "    <tr>\n",
       "      <th>3</th>\n",
       "      <td>1629.400024</td>\n",
       "      <td>1582.099976</td>\n",
       "      <td>1606.000000</td>\n",
       "      <td>1600.000000</td>\n",
       "      <td>2426418.0</td>\n",
       "    </tr>\n",
       "    <tr>\n",
       "      <th>4</th>\n",
       "      <td>1619.050049</td>\n",
       "      <td>1590.099976</td>\n",
       "      <td>1608.000000</td>\n",
       "      <td>1607.900024</td>\n",
       "      <td>1065187.0</td>\n",
       "    </tr>\n",
       "  </tbody>\n",
       "</table>\n",
       "</div>"
      ],
      "text/plain": [
       "          High          Low         Open        Close     Volume\n",
       "0  1659.199951  1606.000000  1639.800049  1638.699951  5112718.0\n",
       "1  1627.199951  1551.349976  1614.800049  1589.500000  3065332.0\n",
       "2  1638.449951  1572.000000  1572.000000  1607.349976  4352946.0\n",
       "3  1629.400024  1582.099976  1606.000000  1600.000000  2426418.0\n",
       "4  1619.050049  1590.099976  1608.000000  1607.900024  1065187.0"
      ]
     },
     "execution_count": 46,
     "metadata": {},
     "output_type": "execute_result"
    }
   ],
   "source": [
    "df = past_60_days.append(data_test, ignore_index = True)\n",
    "df = df.drop(['Date', 'Adj Close'], axis = 1)\n",
    "df.head()"
   ]
  },
  {
   "cell_type": "code",
   "execution_count": 47,
   "metadata": {},
   "outputs": [
    {
     "data": {
      "text/plain": [
       "array([[0.81148599, 0.7989936 , 0.80403103, 0.80740606, 0.27935149],\n",
       "       [0.79556084, 0.77135488, 0.79157431, 0.78275247, 0.16748529],\n",
       "       [0.80115953, 0.78179843, 0.7702484 , 0.79169691, 0.23783865],\n",
       "       ...,\n",
       "       [0.29752663, 0.28895464, 0.28593139, 0.29827375, 0.7990562 ],\n",
       "       [0.30053747, 0.28685581, 0.29721719, 0.28592187, 0.80473658],\n",
       "       [0.29128099, 0.29092704, 0.28832307, 0.29108309, 0.63216199]])"
      ]
     },
     "execution_count": 47,
     "metadata": {},
     "output_type": "execute_result"
    }
   ],
   "source": [
    "inputs = scaler.transform(df)\n",
    "inputs"
   ]
  },
  {
   "cell_type": "code",
   "execution_count": 48,
   "metadata": {},
   "outputs": [
    {
     "data": {
      "text/plain": [
       "((441, 60, 5), (441,))"
      ]
     },
     "execution_count": 48,
     "metadata": {},
     "output_type": "execute_result"
    }
   ],
   "source": [
    "X_test = []\n",
    "y_test = []\n",
    "\n",
    "for i in range(60, inputs.shape[0]):\n",
    "    X_test.append(inputs[i-60:i])\n",
    "    y_test.append(inputs[i, 0])\n",
    "\n",
    "X_test, y_test = np.array(X_test), np.array(y_test)\n",
    "X_test.shape, y_test.shape"
   ]
  },
  {
   "cell_type": "code",
   "execution_count": 49,
   "metadata": {},
   "outputs": [],
   "source": [
    "y_pred = regressor.predict(X_test)"
   ]
  },
  {
   "cell_type": "code",
   "execution_count": 50,
   "metadata": {},
   "outputs": [
    {
     "data": {
      "text/plain": [
       "array([4.97660993e-04, 5.05740163e-04, 4.98268523e-04, 5.01089858e-04,\n",
       "       5.46385477e-08])"
      ]
     },
     "execution_count": 50,
     "metadata": {},
     "output_type": "execute_result"
    }
   ],
   "source": [
    "scaler.scale_"
   ]
  },
  {
   "cell_type": "code",
   "execution_count": 51,
   "metadata": {},
   "outputs": [
    {
     "data": {
      "text/plain": [
       "2009.3999996185303"
      ]
     },
     "execution_count": 51,
     "metadata": {},
     "output_type": "execute_result"
    }
   ],
   "source": [
    "scale = 1/scaler.scale_[0]\n",
    "scale"
   ]
  },
  {
   "cell_type": "code",
   "execution_count": 52,
   "metadata": {},
   "outputs": [],
   "source": [
    "y_pred = y_pred*scale\n",
    "y_test = y_test*scale"
   ]
  },
  {
   "cell_type": "code",
   "execution_count": 53,
   "metadata": {},
   "outputs": [
    {
     "data": {
      "image/png": "[encoded data removed]",
      "text/plain": [
       "<Figure size 1008x360 with 1 Axes>"
      ]
     },
     "metadata": {
      "needs_background": "light"
     },
     "output_type": "display_data"
    }
   ],
   "source": [
    "# Visualising the results\n",
    "plt.figure(figsize=(14,5))\n",
    "plt.plot(y_test, color = 'red', label = 'Real INDUSIND Stock Price')\n",
    "plt.plot(y_pred, color = 'blue', label = 'Predicted INDUSIND Stock Price')\n",
    "plt.title('INDUSIND Stock Price Prediction')\n",
    "plt.xlabel('Time')\n",
    "plt.ylabel('INDUSIND Stock Price')\n",
    "plt.legend()\n",
    "plt.show()"
   ]
  },
  {
   "cell_type": "code",
   "execution_count": 54,
   "metadata": {},
   "outputs": [],
   "source": [
    "# source = \"https://kgptalkie.com/google-stock-price-prediction-using-rnn-lstm/\""
   ]
  },
  {
   "cell_type": "code",
   "execution_count": null,
   "metadata": {},
   "outputs": [],
   "source": [
    "# !pip install jovian --upgrade --quiet\n",
    "# import jovian\n",
    "# project_name = \"INDUSIND BANK stock prediction using RNN-LSTM-updated\"\n",
    "# jovian.commit(project = project_name, enviornment = None)"
   ]
  }
 ],
 "metadata": {
  "language_info": {
   "codemirror_mode": {
    "name": "ipython",
    "version": 3
   },
   "file_extension": ".py",
   "mimetype": "text/x-python",
   "name": "python",
   "nbconvert_exporter": "python",
   "pygments_lexer": "ipython3",
   "version": "3.7.8"
  }
 },
 "nbformat": 4,
 "nbformat_minor": 4
}