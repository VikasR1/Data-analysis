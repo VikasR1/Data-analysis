{
 "cells": [
  {
   "cell_type": "code",
   "execution_count": 1,
   "metadata": {},
   "outputs": [],
   "source": [
    "!pip install jovian --upgrade --quiet"
   ]
  },
  {
   "cell_type": "code",
   "execution_count": 2,
   "metadata": {},
   "outputs": [],
   "source": [
    "import jovian"
   ]
  },
  {
   "cell_type": "code",
   "execution_count": 3,
   "metadata": {},
   "outputs": [],
   "source": [
    "project_name='stock-price-hal'"
   ]
  },
  {
   "cell_type": "code",
   "execution_count": 4,
   "metadata": {},
   "outputs": [
    {
     "data": {
      "application/javascript": [
       "window.require && require([\"base/js/namespace\"],function(Jupyter){Jupyter.notebook.save_checkpoint()})"
      ],
      "text/plain": [
       "<IPython.core.display.Javascript object>"
      ]
     },
     "metadata": {},
     "output_type": "display_data"
    },
    {
     "name": "stdout",
     "output_type": "stream",
     "text": [
      "[jovian] Attempting to save notebook..\u001b[0m\n",
      "[jovian] Please enter your API key ( from https://jovian.ml/ ):\u001b[0m\n",
      "API KEY: ········\n",
      "[jovian] Updating notebook \"vikasrajoria11ece/stock-price-hal\" on https://jovian.ml/\u001b[0m\n",
      "[jovian] Uploading notebook..\u001b[0m\n",
      "[jovian] Capturing environment..\u001b[0m\n",
      "[jovian] Committed successfully! https://jovian.ml/vikasrajoria11ece/stock-price-hal\u001b[0m\n"
     ]
    },
    {
     "data": {
      "text/plain": [
       "'https://jovian.ml/vikasrajoria11ece/stock-price-hal'"
      ]
     },
     "execution_count": 4,
     "metadata": {},
     "output_type": "execute_result"
    }
   ],
   "source": [
    "jovian.commit(project=project_name,enviornment=None)"
   ]
  },
  {
   "cell_type": "code",
   "execution_count": 5,
   "metadata": {},
   "outputs": [],
   "source": [
    "# importing all libraries\n",
    "\n",
    "import numpy as np\n",
    "import pandas as pd\n",
    "import matplotlib.pyplot as plt\n",
    "import yfinance as yf\n",
    "\n",
    "%matplotlib inline"
   ]
  },
  {
   "cell_type": "code",
   "execution_count": 6,
   "metadata": {},
   "outputs": [
    {
     "name": "stdout",
     "output_type": "stream",
     "text": [
      "[*********************100%***********************]  1 of 1 completed\n"
     ]
    },
    {
     "data": {
      "text/html": [
       "<div>\n",
       "<style scoped>\n",
       "    .dataframe tbody tr th:only-of-type {\n",
       "        vertical-align: middle;\n",
       "    }\n",
       "\n",
       "    .dataframe tbody tr th {\n",
       "        vertical-align: top;\n",
       "    }\n",
       "\n",
       "    .dataframe thead th {\n",
       "        text-align: right;\n",
       "    }\n",
       "</style>\n",
       "<table border=\"1\" class=\"dataframe\">\n",
       "  <thead>\n",
       "    <tr style=\"text-align: right;\">\n",
       "      <th></th>\n",
       "      <th>Open</th>\n",
       "      <th>High</th>\n",
       "      <th>Low</th>\n",
       "      <th>Close</th>\n",
       "      <th>Adj Close</th>\n",
       "      <th>Volume</th>\n",
       "    </tr>\n",
       "    <tr>\n",
       "      <th>Date</th>\n",
       "      <th></th>\n",
       "      <th></th>\n",
       "      <th></th>\n",
       "      <th></th>\n",
       "      <th></th>\n",
       "      <th></th>\n",
       "    </tr>\n",
       "  </thead>\n",
       "  <tbody>\n",
       "    <tr>\n",
       "      <th>2020-08-03</th>\n",
       "      <td>861.549988</td>\n",
       "      <td>904.950012</td>\n",
       "      <td>860.099976</td>\n",
       "      <td>894.099976</td>\n",
       "      <td>894.099976</td>\n",
       "      <td>215153</td>\n",
       "    </tr>\n",
       "    <tr>\n",
       "      <th>2020-08-04</th>\n",
       "      <td>904.299988</td>\n",
       "      <td>957.700012</td>\n",
       "      <td>900.000000</td>\n",
       "      <td>950.200012</td>\n",
       "      <td>950.200012</td>\n",
       "      <td>1209208</td>\n",
       "    </tr>\n",
       "    <tr>\n",
       "      <th>2020-08-05</th>\n",
       "      <td>955.000000</td>\n",
       "      <td>985.000000</td>\n",
       "      <td>937.049988</td>\n",
       "      <td>965.299988</td>\n",
       "      <td>965.299988</td>\n",
       "      <td>771610</td>\n",
       "    </tr>\n",
       "    <tr>\n",
       "      <th>2020-08-06</th>\n",
       "      <td>966.000000</td>\n",
       "      <td>987.000000</td>\n",
       "      <td>950.349976</td>\n",
       "      <td>967.450012</td>\n",
       "      <td>967.450012</td>\n",
       "      <td>375327</td>\n",
       "    </tr>\n",
       "    <tr>\n",
       "      <th>2020-08-07</th>\n",
       "      <td>966.000000</td>\n",
       "      <td>976.049988</td>\n",
       "      <td>942.000000</td>\n",
       "      <td>949.450012</td>\n",
       "      <td>949.450012</td>\n",
       "      <td>243398</td>\n",
       "    </tr>\n",
       "    <tr>\n",
       "      <th>2020-08-10</th>\n",
       "      <td>1033.000000</td>\n",
       "      <td>1070.000000</td>\n",
       "      <td>1006.500000</td>\n",
       "      <td>1031.300049</td>\n",
       "      <td>1031.300049</td>\n",
       "      <td>1251608</td>\n",
       "    </tr>\n",
       "    <tr>\n",
       "      <th>2020-08-11</th>\n",
       "      <td>1032.000000</td>\n",
       "      <td>1044.000000</td>\n",
       "      <td>1001.000000</td>\n",
       "      <td>1019.150024</td>\n",
       "      <td>1019.150024</td>\n",
       "      <td>279768</td>\n",
       "    </tr>\n",
       "    <tr>\n",
       "      <th>2020-08-12</th>\n",
       "      <td>1050.000000</td>\n",
       "      <td>1126.849976</td>\n",
       "      <td>1040.000000</td>\n",
       "      <td>1099.050049</td>\n",
       "      <td>1099.050049</td>\n",
       "      <td>2018169</td>\n",
       "    </tr>\n",
       "    <tr>\n",
       "      <th>2020-08-13</th>\n",
       "      <td>1120.000000</td>\n",
       "      <td>1318.849976</td>\n",
       "      <td>1110.050049</td>\n",
       "      <td>1288.949951</td>\n",
       "      <td>1288.949951</td>\n",
       "      <td>4213365</td>\n",
       "    </tr>\n",
       "    <tr>\n",
       "      <th>2020-08-14</th>\n",
       "      <td>1321.099976</td>\n",
       "      <td>1423.000000</td>\n",
       "      <td>1202.400024</td>\n",
       "      <td>1293.599976</td>\n",
       "      <td>1293.599976</td>\n",
       "      <td>6379065</td>\n",
       "    </tr>\n",
       "    <tr>\n",
       "      <th>2020-08-17</th>\n",
       "      <td>1330.050049</td>\n",
       "      <td>1354.000000</td>\n",
       "      <td>1232.000000</td>\n",
       "      <td>1250.400024</td>\n",
       "      <td>1250.400024</td>\n",
       "      <td>1919288</td>\n",
       "    </tr>\n",
       "    <tr>\n",
       "      <th>2020-08-18</th>\n",
       "      <td>1250.400024</td>\n",
       "      <td>1312.000000</td>\n",
       "      <td>1245.000000</td>\n",
       "      <td>1276.500000</td>\n",
       "      <td>1276.500000</td>\n",
       "      <td>2159039</td>\n",
       "    </tr>\n",
       "    <tr>\n",
       "      <th>2020-08-19</th>\n",
       "      <td>1309.699951</td>\n",
       "      <td>1319.000000</td>\n",
       "      <td>1250.849976</td>\n",
       "      <td>1263.000000</td>\n",
       "      <td>1263.000000</td>\n",
       "      <td>1499371</td>\n",
       "    </tr>\n",
       "    <tr>\n",
       "      <th>2020-08-20</th>\n",
       "      <td>1255.000000</td>\n",
       "      <td>1255.000000</td>\n",
       "      <td>1200.000000</td>\n",
       "      <td>1206.349976</td>\n",
       "      <td>1206.349976</td>\n",
       "      <td>836366</td>\n",
       "    </tr>\n",
       "    <tr>\n",
       "      <th>2020-08-21</th>\n",
       "      <td>1215.000000</td>\n",
       "      <td>1257.000000</td>\n",
       "      <td>1200.000000</td>\n",
       "      <td>1211.500000</td>\n",
       "      <td>1211.500000</td>\n",
       "      <td>1185101</td>\n",
       "    </tr>\n",
       "    <tr>\n",
       "      <th>2020-08-24</th>\n",
       "      <td>1223.400024</td>\n",
       "      <td>1225.000000</td>\n",
       "      <td>1191.449951</td>\n",
       "      <td>1197.000000</td>\n",
       "      <td>1197.000000</td>\n",
       "      <td>351069</td>\n",
       "    </tr>\n",
       "    <tr>\n",
       "      <th>2020-08-25</th>\n",
       "      <td>1206.400024</td>\n",
       "      <td>1208.949951</td>\n",
       "      <td>1160.349976</td>\n",
       "      <td>1172.949951</td>\n",
       "      <td>1172.949951</td>\n",
       "      <td>419387</td>\n",
       "    </tr>\n",
       "    <tr>\n",
       "      <th>2020-08-26</th>\n",
       "      <td>1170.000000</td>\n",
       "      <td>1209.000000</td>\n",
       "      <td>1149.000000</td>\n",
       "      <td>1177.599976</td>\n",
       "      <td>1177.599976</td>\n",
       "      <td>652951</td>\n",
       "    </tr>\n",
       "    <tr>\n",
       "      <th>2020-08-27</th>\n",
       "      <td>1041.099976</td>\n",
       "      <td>1065.900024</td>\n",
       "      <td>1008.500000</td>\n",
       "      <td>1010.799988</td>\n",
       "      <td>1010.799988</td>\n",
       "      <td>5831169</td>\n",
       "    </tr>\n",
       "    <tr>\n",
       "      <th>2020-08-28</th>\n",
       "      <td>981.599976</td>\n",
       "      <td>1034.000000</td>\n",
       "      <td>981.599976</td>\n",
       "      <td>1010.599976</td>\n",
       "      <td>1010.599976</td>\n",
       "      <td>8282597</td>\n",
       "    </tr>\n",
       "    <tr>\n",
       "      <th>2020-08-31</th>\n",
       "      <td>982.000000</td>\n",
       "      <td>987.900024</td>\n",
       "      <td>921.000000</td>\n",
       "      <td>926.150024</td>\n",
       "      <td>926.150024</td>\n",
       "      <td>4825705</td>\n",
       "    </tr>\n",
       "    <tr>\n",
       "      <th>2020-09-01</th>\n",
       "      <td>926.000000</td>\n",
       "      <td>926.000000</td>\n",
       "      <td>871.000000</td>\n",
       "      <td>892.150024</td>\n",
       "      <td>892.150024</td>\n",
       "      <td>3255501</td>\n",
       "    </tr>\n",
       "    <tr>\n",
       "      <th>2020-09-02</th>\n",
       "      <td>891.950012</td>\n",
       "      <td>918.000000</td>\n",
       "      <td>886.250000</td>\n",
       "      <td>894.299988</td>\n",
       "      <td>894.299988</td>\n",
       "      <td>1304943</td>\n",
       "    </tr>\n",
       "    <tr>\n",
       "      <th>2020-09-03</th>\n",
       "      <td>897.000000</td>\n",
       "      <td>938.000000</td>\n",
       "      <td>892.200012</td>\n",
       "      <td>925.599976</td>\n",
       "      <td>925.599976</td>\n",
       "      <td>2205876</td>\n",
       "    </tr>\n",
       "    <tr>\n",
       "      <th>2020-09-04</th>\n",
       "      <td>910.000000</td>\n",
       "      <td>926.950012</td>\n",
       "      <td>905.049988</td>\n",
       "      <td>911.000000</td>\n",
       "      <td>911.000000</td>\n",
       "      <td>947039</td>\n",
       "    </tr>\n",
       "  </tbody>\n",
       "</table>\n",
       "</div>"
      ],
      "text/plain": [
       "                   Open         High          Low        Close    Adj Close  \\\n",
       "Date                                                                          \n",
       "2020-08-03   861.549988   904.950012   860.099976   894.099976   894.099976   \n",
       "2020-08-04   904.299988   957.700012   900.000000   950.200012   950.200012   \n",
       "2020-08-05   955.000000   985.000000   937.049988   965.299988   965.299988   \n",
       "2020-08-06   966.000000   987.000000   950.349976   967.450012   967.450012   \n",
       "2020-08-07   966.000000   976.049988   942.000000   949.450012   949.450012   \n",
       "2020-08-10  1033.000000  1070.000000  1006.500000  1031.300049  1031.300049   \n",
       "2020-08-11  1032.000000  1044.000000  1001.000000  1019.150024  1019.150024   \n",
       "2020-08-12  1050.000000  1126.849976  1040.000000  1099.050049  1099.050049   \n",
       "2020-08-13  1120.000000  1318.849976  1110.050049  1288.949951  1288.949951   \n",
       "2020-08-14  1321.099976  1423.000000  1202.400024  1293.599976  1293.599976   \n",
       "2020-08-17  1330.050049  1354.000000  1232.000000  1250.400024  1250.400024   \n",
       "2020-08-18  1250.400024  1312.000000  1245.000000  1276.500000  1276.500000   \n",
       "2020-08-19  1309.699951  1319.000000  1250.849976  1263.000000  1263.000000   \n",
       "2020-08-20  1255.000000  1255.000000  1200.000000  1206.349976  1206.349976   \n",
       "2020-08-21  1215.000000  1257.000000  1200.000000  1211.500000  1211.500000   \n",
       "2020-08-24  1223.400024  1225.000000  1191.449951  1197.000000  1197.000000   \n",
       "2020-08-25  1206.400024  1208.949951  1160.349976  1172.949951  1172.949951   \n",
       "2020-08-26  1170.000000  1209.000000  1149.000000  1177.599976  1177.599976   \n",
       "2020-08-27  1041.099976  1065.900024  1008.500000  1010.799988  1010.799988   \n",
       "2020-08-28   981.599976  1034.000000   981.599976  1010.599976  1010.599976   \n",
       "2020-08-31   982.000000   987.900024   921.000000   926.150024   926.150024   \n",
       "2020-09-01   926.000000   926.000000   871.000000   892.150024   892.150024   \n",
       "2020-09-02   891.950012   918.000000   886.250000   894.299988   894.299988   \n",
       "2020-09-03   897.000000   938.000000   892.200012   925.599976   925.599976   \n",
       "2020-09-04   910.000000   926.950012   905.049988   911.000000   911.000000   \n",
       "\n",
       "             Volume  \n",
       "Date                 \n",
       "2020-08-03   215153  \n",
       "2020-08-04  1209208  \n",
       "2020-08-05   771610  \n",
       "2020-08-06   375327  \n",
       "2020-08-07   243398  \n",
       "2020-08-10  1251608  \n",
       "2020-08-11   279768  \n",
       "2020-08-12  2018169  \n",
       "2020-08-13  4213365  \n",
       "2020-08-14  6379065  \n",
       "2020-08-17  1919288  \n",
       "2020-08-18  2159039  \n",
       "2020-08-19  1499371  \n",
       "2020-08-20   836366  \n",
       "2020-08-21  1185101  \n",
       "2020-08-24   351069  \n",
       "2020-08-25   419387  \n",
       "2020-08-26   652951  \n",
       "2020-08-27  5831169  \n",
       "2020-08-28  8282597  \n",
       "2020-08-31  4825705  \n",
       "2020-09-01  3255501  \n",
       "2020-09-02  1304943  \n",
       "2020-09-03  2205876  \n",
       "2020-09-04   947039  "
      ]
     },
     "execution_count": 6,
     "metadata": {},
     "output_type": "execute_result"
    }
   ],
   "source": [
    "hal_data = yf.download('HAL.NS','2020-08-01','2020-09-07')\n",
    "hal_data"
   ]
  },
  {
   "cell_type": "code",
   "execution_count": 7,
   "metadata": {},
   "outputs": [
    {
     "data": {
      "image/png": "[encoded data removed]",
      "text/plain": [
       "<Figure size 432x288 with 1 Axes>"
      ]
     },
     "metadata": {
      "needs_background": "light"
     },
     "output_type": "display_data"
    }
   ],
   "source": [
    "hal_data['Close'].plot()\n",
    "plt.show()"
   ]
  },
  {
   "cell_type": "code",
   "execution_count": 8,
   "metadata": {},
   "outputs": [
    {
     "data": {
      "application/javascript": [
       "window.require && require([\"base/js/namespace\"],function(Jupyter){Jupyter.notebook.save_checkpoint()})"
      ],
      "text/plain": [
       "<IPython.core.display.Javascript object>"
      ]
     },
     "metadata": {},
     "output_type": "display_data"
    },
    {
     "name": "stdout",
     "output_type": "stream",
     "text": [
      "[jovian] Attempting to save notebook..\u001b[0m\n",
      "[jovian] Updating notebook \"vikasrajoria11ece/stock-price-hal\" on https://jovian.ml/\u001b[0m\n",
      "[jovian] Uploading notebook..\u001b[0m\n",
      "[jovian] Capturing environment..\u001b[0m\n",
      "[jovian] Committed successfully! https://jovian.ml/vikasrajoria11ece/stock-price-hal\u001b[0m\n"
     ]
    },
    {
     "data": {
      "text/plain": [
       "'https://jovian.ml/vikasrajoria11ece/stock-price-hal'"
      ]
     },
     "execution_count": 8,
     "metadata": {},
     "output_type": "execute_result"
    }
   ],
   "source": [
    "jovian.commit(project=project_name,enviornment=None)"
   ]
  },
  {
   "cell_type": "markdown",
   "metadata": {},
   "source": [
    "## Minute level data"
   ]
  },
  {
   "cell_type": "code",
   "execution_count": 9,
   "metadata": {},
   "outputs": [
    {
     "name": "stdout",
     "output_type": "stream",
     "text": [
      "[*********************100%***********************]  1 of 1 completed\n",
      "                                 Open        High         Low       Close  \\\n",
      "Datetime                                                                    \n",
      "2020-09-07 11:54:00+05:30  894.500000  895.750000  894.099976  895.750000   \n",
      "2020-09-07 11:55:00+05:30  894.799988  897.299988  894.650024  896.000000   \n",
      "2020-09-07 11:56:00+05:30  895.200012  895.950012  894.650024  895.750000   \n",
      "2020-09-07 11:57:00+05:30  895.799988  895.799988  893.599976  894.549988   \n",
      "2020-09-07 11:58:47+05:30  895.450012  895.450012  895.450012  895.450012   \n",
      "\n",
      "                            Adj Close  Volume  \n",
      "Datetime                                       \n",
      "2020-09-07 11:54:00+05:30  895.750000    1883  \n",
      "2020-09-07 11:55:00+05:30  896.000000    4968  \n",
      "2020-09-07 11:56:00+05:30  895.750000     850  \n",
      "2020-09-07 11:57:00+05:30  894.549988    3741  \n",
      "2020-09-07 11:58:47+05:30  895.450012       0  \n"
     ]
    }
   ],
   "source": [
    "hal_data1 = yf.download(tickers='HAL.NS', period = '7d', interval = '1m')\n",
    "print(hal_data1.tail())"
   ]
  },
  {
   "cell_type": "code",
   "execution_count": null,
   "metadata": {},
   "outputs": [],
   "source": [
    "hal_data1['Close'].plot()\n",
    "plt.show()\n"
   ]
  },
  {
   "cell_type": "code",
   "execution_count": null,
   "metadata": {},
   "outputs": [],
   "source": [
    "jovian.commit(project=project_name,enviornment=None)"
   ]
  },
  {
   "cell_type": "code",
   "execution_count": null,
   "metadata": {},
   "outputs": [],
   "source": []
  }
 ],
 "metadata": {
  "language_info": {
   "codemirror_mode": {
    "name": "ipython",
    "version": 3
   },
   "file_extension": ".py",
   "mimetype": "text/x-python",
   "name": "python",
   "nbconvert_exporter": "python",
   "pygments_lexer": "ipython3",
   "version": "3.7.8"
  }
 },
 "nbformat": 4,
 "nbformat_minor": 4
}